{
  "nbformat": 4,
  "nbformat_minor": 0,
  "metadata": {
    "colab": {
      "provenance": []
    },
    "kernelspec": {
      "name": "python3",
      "display_name": "Python 3"
    },
    "language_info": {
      "name": "python"
    }
  },
  "cells": [
    {
      "cell_type": "markdown",
      "source": [
        "### 🎯 **Objective:**\n",
        "\n",
        "You are working with student marks data and need to prepare and organize it using NumPy arrays.Your goal is to create, modify, and analyze the data efficiently without using any external libraries.\n",
        "\n",
        "### 🧠 **Project Description:**\n",
        "\n",
        "A school has recorded the marks of several students in different subjects.You are required to design a NumPy-based solution to store, manage, and process this data.Your tasks involve creating arrays, changing their shapes, combining data, performing modifications, and analyzing patterns — all using NumPy.\n",
        "\n",
        "### 📋 **Project Tasks:**\n",
        "\n",
        "1.  **Data Creation:**Create suitable arrays to represent students, subjects, and their marks.\n",
        "    \n",
        "2.  **Data Exploration:**Explore the properties of these arrays — such as their dimensions, size, and structure.\n",
        "    \n",
        "3.  **Data Transformation:**Perform necessary reshaping and reorganization of the data to suit various operations.\n",
        "    \n",
        "4.  **Data Combination:**Merge or split arrays to simulate adding new students, new subjects, or reorganizing the dataset.\n",
        "    \n",
        "5.  **Data Modification:**Apply operations to update marks, remove data, or identify unique information.\n",
        "    \n",
        "6.  **Data Type Handling:**Demonstrate how the same data can exist in different data types and how changes affect results.\n",
        "    \n",
        "7.  **Copy and View Behavior:**Show the difference between creating a full copy of an array and creating a view of the same data."
      ],
      "metadata": {
        "id": "lvaTnUmX5jmz"
      }
    },
    {
      "cell_type": "code",
      "source": [
        "import numpy as np"
      ],
      "metadata": {
        "id": "kYcyyihv6UYH"
      },
      "execution_count": null,
      "outputs": []
    },
    {
      "cell_type": "markdown",
      "source": [
        "1.Data Creation"
      ],
      "metadata": {
        "id": "c-7-_oQQ53IC"
      }
    },
    {
      "cell_type": "code",
      "source": [
        "students=np.array([\"Prasanth\",\"Vijay\",\"Yash\",\"Rishab\"])\n",
        "subjects=np.array([\"Maths\",\"English\",\"Science\",\"Computer\"])\n",
        "marks=np.array([[90,91,96,70],\n",
        "                [85,88,91,78],\n",
        "                [95,97,99,81],\n",
        "                [91,98,78,76]])\n",
        "print(students)\n",
        "print(subjects)\n",
        "print(marks)\n",
        "print(\"-\"*50)"
      ],
      "metadata": {
        "colab": {
          "base_uri": "https://localhost:8080/"
        },
        "id": "KnHvb4xF6QgT",
        "outputId": "67fb3675-970d-4596-dcd1-549bdcccfab0"
      },
      "execution_count": null,
      "outputs": [
        {
          "output_type": "stream",
          "name": "stdout",
          "text": [
            "['Prasanth' 'Vijay' 'Yash' 'Rishab']\n",
            "['Maths' 'English' 'Science' 'Computer']\n",
            "[[90 91 96 70]\n",
            " [85 88 91 78]\n",
            " [95 97 99 81]\n",
            " [91 98 78 76]]\n",
            "--------------------------------------------------\n"
          ]
        }
      ]
    },
    {
      "cell_type": "markdown",
      "source": [
        "2.Data Exploration"
      ],
      "metadata": {
        "id": "UFOq74aG6enH"
      }
    },
    {
      "cell_type": "code",
      "source": [
        "print(\"shape of marks:\",marks.shape)\n",
        "print(\"Size of marks:\",marks.size)\n",
        "print(\"Dimension of marks:\",marks.ndim)\n",
        "print(\"Datatype of marks:\",marks.dtype)\n",
        "print(\"-\"*50)"
      ],
      "metadata": {
        "colab": {
          "base_uri": "https://localhost:8080/"
        },
        "id": "5TfVIQ4n6fPH",
        "outputId": "575c2134-9074-4e72-e3d3-732a498b6e8d"
      },
      "execution_count": null,
      "outputs": [
        {
          "output_type": "stream",
          "name": "stdout",
          "text": [
            "shape of marks: (4, 4)\n",
            "Size of marks: 16\n",
            "Dimension of marks: 2\n",
            "Datatype of marks: int64\n",
            "--------------------------------------------------\n"
          ]
        }
      ]
    },
    {
      "cell_type": "markdown",
      "source": [
        "3.Data Transformation"
      ],
      "metadata": {
        "id": "gKZQ4CY96lG0"
      }
    },
    {
      "cell_type": "code",
      "source": [
        "reshaped_marks=marks.reshape(2,4,2)\n",
        "print(\"Reshape of marks:\\n\",reshaped_marks)\n"
      ],
      "metadata": {
        "colab": {
          "base_uri": "https://localhost:8080/"
        },
        "id": "z2vh1tOc6pIs",
        "outputId": "13ecbffa-e3d7-470f-e6e5-b3cf875fedc3"
      },
      "execution_count": null,
      "outputs": [
        {
          "output_type": "stream",
          "name": "stdout",
          "text": [
            "Reshape of marks:\n",
            " [[[90 91]\n",
            "  [96 70]\n",
            "  [85 88]\n",
            "  [91 78]]\n",
            "\n",
            " [[95 97]\n",
            "  [99 81]\n",
            "  [91 98]\n",
            "  [78 76]]]\n"
          ]
        }
      ]
    },
    {
      "cell_type": "markdown",
      "source": [
        "4.Data Combination"
      ],
      "metadata": {
        "id": "3cF5kFxZ6r0F"
      }
    },
    {
      "cell_type": "code",
      "source": [
        "new_student=np.array([[98,99,96,91]])\n",
        "marks=np.vstack((marks,new_student))\n",
        "students=np.append(students,\"Dhoni\")\n",
        "print(marks)\n",
        "print(students)"
      ],
      "metadata": {
        "id": "UXALly5u6uni",
        "colab": {
          "base_uri": "https://localhost:8080/"
        },
        "outputId": "1fa7754a-6ff1-48c4-853a-33fcfeb4ac3f"
      },
      "execution_count": null,
      "outputs": [
        {
          "output_type": "stream",
          "name": "stdout",
          "text": [
            "[[90 91 96 70]\n",
            " [85 88 91 78]\n",
            " [95 97 99 81]\n",
            " [91 98 78 76]\n",
            " [98 99 96 91]]\n",
            "['Prasanth' 'Vijay' 'Yash' 'Rishab' 'Dhoni']\n"
          ]
        }
      ]
    },
    {
      "cell_type": "code",
      "source": [
        "new_subject=np.random.randint(80,100,5).reshape(5,1)\n",
        "marks=np.hstack((marks,new_subject))\n",
        "subjects=np.append(subjects,\"Python\")\n",
        "print(\"Added new subject 'Computer':\\n\",marks)\n",
        "print(\"-\"*50)"
      ],
      "metadata": {
        "id": "02N5Ek4565y0",
        "colab": {
          "base_uri": "https://localhost:8080/"
        },
        "outputId": "01d77a49-cfcf-4ec5-c705-ac9ad56eae3d"
      },
      "execution_count": null,
      "outputs": [
        {
          "output_type": "stream",
          "name": "stdout",
          "text": [
            "Added new subject 'Computer':\n",
            " [[90 91 96 70 86]\n",
            " [85 88 91 78 89]\n",
            " [95 97 99 81 93]\n",
            " [91 98 78 76 92]\n",
            " [98 99 96 91 97]]\n",
            "--------------------------------------------------\n"
          ]
        }
      ]
    },
    {
      "cell_type": "markdown",
      "source": [
        "5.Data Modification"
      ],
      "metadata": {
        "id": "s6LqYo7G6xM4"
      }
    },
    {
      "cell_type": "code",
      "source": [
        "#Updating Vijay's Science mark:\n",
        "marks[1][2]=99\n",
        "print(marks)"
      ],
      "metadata": {
        "colab": {
          "base_uri": "https://localhost:8080/"
        },
        "id": "hFNd4-YkXj3f",
        "outputId": "72802f20-a7f7-4687-e573-aec87fd69055"
      },
      "execution_count": null,
      "outputs": [
        {
          "output_type": "stream",
          "name": "stdout",
          "text": [
            "[[90 91 96 70 86]\n",
            " [85 88 99 78 89]\n",
            " [95 97 99 81 93]\n",
            " [91 98 78 76 92]\n",
            " [98 99 96 91 97]]\n"
          ]
        }
      ]
    },
    {
      "cell_type": "code",
      "source": [
        "#Removing one student and removing removed student marks:\n",
        "index_to_remove = np.where(students == \"Dhoni\")[0][0]\n",
        "students=np.delete(students,index_to_remove)\n",
        "marks=np.delete(marks,index_to_remove,axis=0)\n",
        "print(students)\n",
        "print(marks)\n",
        "\n",
        "\n"
      ],
      "metadata": {
        "id": "AgisrwLP6_9b",
        "colab": {
          "base_uri": "https://localhost:8080/"
        },
        "outputId": "edfa16c2-dc1a-42f8-dace-7b2f6535ff77"
      },
      "execution_count": null,
      "outputs": [
        {
          "output_type": "stream",
          "name": "stdout",
          "text": [
            "['Prasanth' 'Vijay' 'Yash' 'Rishab']\n",
            "[[90 91 96 70 86]\n",
            " [85 88 99 78 89]\n",
            " [95 97 99 81 93]\n",
            " [91 98 78 76 92]]\n"
          ]
        }
      ]
    },
    {
      "cell_type": "code",
      "source": [
        "#identifying unique marks:\n",
        "unique_marks=np.unique(marks)\n",
        "print(unique_marks)"
      ],
      "metadata": {
        "colab": {
          "base_uri": "https://localhost:8080/"
        },
        "id": "LZf8wBCWZicb",
        "outputId": "96d45a9e-c0cb-45de-8933-f5467a4cde59"
      },
      "execution_count": null,
      "outputs": [
        {
          "output_type": "stream",
          "name": "stdout",
          "text": [
            "[70 76 78 81 85 86 88 89 90 91 92 93 95 96 97 98 99]\n"
          ]
        }
      ]
    },
    {
      "cell_type": "markdown",
      "source": [
        "6.Data Type Handling"
      ],
      "metadata": {
        "id": "2jINGtfw7lGL"
      }
    },
    {
      "cell_type": "code",
      "source": [
        "marks_float=marks.astype(dtype=float)\n",
        "print(marks_float)\n",
        "print(marks_float.dtype)"
      ],
      "metadata": {
        "id": "7njVxiYH7pgQ",
        "colab": {
          "base_uri": "https://localhost:8080/"
        },
        "outputId": "ca508c4e-5884-4548-a421-aba5f183b53c"
      },
      "execution_count": null,
      "outputs": [
        {
          "output_type": "stream",
          "name": "stdout",
          "text": [
            "[[90. 91. 96. 70. 86.]\n",
            " [85. 88. 99. 78. 89.]\n",
            " [95. 97. 99. 81. 93.]\n",
            " [91. 98. 78. 76. 92.]]\n",
            "float64\n"
          ]
        }
      ]
    },
    {
      "cell_type": "markdown",
      "source": [
        "7.Copy and View Behaviour"
      ],
      "metadata": {
        "id": "sTYlA9e0dHKL"
      }
    },
    {
      "cell_type": "code",
      "source": [
        "marks_copy=marks.copy()\n",
        "marks_view=marks.view()\n",
        "marks[1][0]=100\n",
        "print(marks_copy)\n",
        "print(marks_view)"
      ],
      "metadata": {
        "colab": {
          "base_uri": "https://localhost:8080/"
        },
        "id": "Cx-y7eo6_dnS",
        "outputId": "8043b455-367f-4c49-9614-6dda742f3a26"
      },
      "execution_count": null,
      "outputs": [
        {
          "output_type": "stream",
          "name": "stdout",
          "text": [
            "[[90 91 96 70 86]\n",
            " [85 88 99 78 89]\n",
            " [95 97 99 81 93]\n",
            " [91 98 78 76 92]]\n",
            "[[ 90  91  96  70  86]\n",
            " [100  88  99  78  89]\n",
            " [ 95  97  99  81  93]\n",
            " [ 91  98  78  76  92]]\n"
          ]
        }
      ]
    },
    {
      "cell_type": "markdown",
      "source": [
        "Analysis examples"
      ],
      "metadata": {
        "id": "1Tv41k8IhpnE"
      }
    },
    {
      "cell_type": "code",
      "source": [
        "average_per_student=marks.mean(axis=1)\n",
        "average_per_subject=marks.mean(axis=0)\n",
        "print(average_per_student)\n",
        "print(average_per_subject)"
      ],
      "metadata": {
        "colab": {
          "base_uri": "https://localhost:8080/"
        },
        "id": "BQdt6LOzd72L",
        "outputId": "97fca6fa-1086-47e0-e74f-0c9d7cba1ad6"
      },
      "execution_count": null,
      "outputs": [
        {
          "output_type": "stream",
          "name": "stdout",
          "text": [
            "[86.6 90.8 93.  87. ]\n",
            "[94.   93.5  93.   76.25 90.  ]\n"
          ]
        }
      ]
    }
  ]
}